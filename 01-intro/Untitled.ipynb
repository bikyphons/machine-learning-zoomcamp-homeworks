{
 "cells": [
  {
   "cell_type": "code",
   "execution_count": 1,
   "id": "10653d33-5f44-4965-9e35-8f4ede24bca9",
   "metadata": {},
   "outputs": [],
   "source": [
    "import pandas as pd"
   ]
  },
  {
   "cell_type": "code",
   "execution_count": 16,
   "id": "7aeb71e7-ffd2-46e3-9dee-cfc4680d635d",
   "metadata": {},
   "outputs": [
    {
     "data": {
      "text/plain": [
       "'2.3.1'"
      ]
     },
     "execution_count": 16,
     "metadata": {},
     "output_type": "execute_result"
    }
   ],
   "source": [
    "pd.__version__\n"
   ]
  },
  {
   "cell_type": "code",
   "execution_count": 5,
   "id": "1f6aeb8a-d2d8-4fb8-90f1-f7161a24079e",
   "metadata": {},
   "outputs": [],
   "source": [
    "df=pd.read_csv('https://raw.githubusercontent.com/alexeygrigorev/datasets/master/car_fuel_efficiency.csv')"
   ]
  },
  {
   "cell_type": "code",
   "execution_count": 14,
   "id": "0f3883d3-c507-4871-ba53-2e381a0c59ed",
   "metadata": {},
   "outputs": [
    {
     "data": {
      "text/html": [
       "<div>\n",
       "<style scoped>\n",
       "    .dataframe tbody tr th:only-of-type {\n",
       "        vertical-align: middle;\n",
       "    }\n",
       "\n",
       "    .dataframe tbody tr th {\n",
       "        vertical-align: top;\n",
       "    }\n",
       "\n",
       "    .dataframe thead th {\n",
       "        text-align: right;\n",
       "    }\n",
       "</style>\n",
       "<table border=\"1\" class=\"dataframe\">\n",
       "  <thead>\n",
       "    <tr style=\"text-align: right;\">\n",
       "      <th></th>\n",
       "      <th>engine_displacement</th>\n",
       "      <th>num_cylinders</th>\n",
       "      <th>horsepower</th>\n",
       "      <th>vehicle_weight</th>\n",
       "      <th>acceleration</th>\n",
       "      <th>model_year</th>\n",
       "      <th>origin</th>\n",
       "      <th>fuel_type</th>\n",
       "      <th>drivetrain</th>\n",
       "      <th>num_doors</th>\n",
       "      <th>fuel_efficiency_mpg</th>\n",
       "    </tr>\n",
       "  </thead>\n",
       "  <tbody>\n",
       "    <tr>\n",
       "      <th>0</th>\n",
       "      <td>170</td>\n",
       "      <td>3.0</td>\n",
       "      <td>159.0</td>\n",
       "      <td>3413.433759</td>\n",
       "      <td>17.7</td>\n",
       "      <td>2003</td>\n",
       "      <td>Europe</td>\n",
       "      <td>Gasoline</td>\n",
       "      <td>All-wheel drive</td>\n",
       "      <td>0.0</td>\n",
       "      <td>13.231729</td>\n",
       "    </tr>\n",
       "    <tr>\n",
       "      <th>1</th>\n",
       "      <td>130</td>\n",
       "      <td>5.0</td>\n",
       "      <td>97.0</td>\n",
       "      <td>3149.664934</td>\n",
       "      <td>17.8</td>\n",
       "      <td>2007</td>\n",
       "      <td>USA</td>\n",
       "      <td>Gasoline</td>\n",
       "      <td>Front-wheel drive</td>\n",
       "      <td>0.0</td>\n",
       "      <td>13.688217</td>\n",
       "    </tr>\n",
       "    <tr>\n",
       "      <th>2</th>\n",
       "      <td>170</td>\n",
       "      <td>NaN</td>\n",
       "      <td>78.0</td>\n",
       "      <td>3079.038997</td>\n",
       "      <td>15.1</td>\n",
       "      <td>2018</td>\n",
       "      <td>Europe</td>\n",
       "      <td>Gasoline</td>\n",
       "      <td>Front-wheel drive</td>\n",
       "      <td>0.0</td>\n",
       "      <td>14.246341</td>\n",
       "    </tr>\n",
       "    <tr>\n",
       "      <th>3</th>\n",
       "      <td>220</td>\n",
       "      <td>4.0</td>\n",
       "      <td>NaN</td>\n",
       "      <td>2542.392402</td>\n",
       "      <td>20.2</td>\n",
       "      <td>2009</td>\n",
       "      <td>USA</td>\n",
       "      <td>Diesel</td>\n",
       "      <td>All-wheel drive</td>\n",
       "      <td>2.0</td>\n",
       "      <td>16.912736</td>\n",
       "    </tr>\n",
       "    <tr>\n",
       "      <th>4</th>\n",
       "      <td>210</td>\n",
       "      <td>1.0</td>\n",
       "      <td>140.0</td>\n",
       "      <td>3460.870990</td>\n",
       "      <td>14.4</td>\n",
       "      <td>2009</td>\n",
       "      <td>Europe</td>\n",
       "      <td>Gasoline</td>\n",
       "      <td>All-wheel drive</td>\n",
       "      <td>2.0</td>\n",
       "      <td>12.488369</td>\n",
       "    </tr>\n",
       "  </tbody>\n",
       "</table>\n",
       "</div>"
      ],
      "text/plain": [
       "   engine_displacement  num_cylinders  horsepower  vehicle_weight  \\\n",
       "0                  170            3.0       159.0     3413.433759   \n",
       "1                  130            5.0        97.0     3149.664934   \n",
       "2                  170            NaN        78.0     3079.038997   \n",
       "3                  220            4.0         NaN     2542.392402   \n",
       "4                  210            1.0       140.0     3460.870990   \n",
       "\n",
       "   acceleration  model_year  origin fuel_type         drivetrain  num_doors  \\\n",
       "0          17.7        2003  Europe  Gasoline    All-wheel drive        0.0   \n",
       "1          17.8        2007     USA  Gasoline  Front-wheel drive        0.0   \n",
       "2          15.1        2018  Europe  Gasoline  Front-wheel drive        0.0   \n",
       "3          20.2        2009     USA    Diesel    All-wheel drive        2.0   \n",
       "4          14.4        2009  Europe  Gasoline    All-wheel drive        2.0   \n",
       "\n",
       "   fuel_efficiency_mpg  \n",
       "0            13.231729  \n",
       "1            13.688217  \n",
       "2            14.246341  \n",
       "3            16.912736  \n",
       "4            12.488369  "
      ]
     },
     "execution_count": 14,
     "metadata": {},
     "output_type": "execute_result"
    }
   ],
   "source": [
    "df.head()\n"
   ]
  },
  {
   "cell_type": "code",
   "execution_count": 17,
   "id": "9cb2f9ee-5715-4fb8-b182-42574d426d0a",
   "metadata": {},
   "outputs": [],
   "source": [
    "num_record =len(df)"
   ]
  },
  {
   "cell_type": "code",
   "execution_count": 25,
   "id": "e438c461-4d83-448d-b3c3-810e2103ab89",
   "metadata": {},
   "outputs": [
    {
     "name": "stdout",
     "output_type": "stream",
     "text": [
      "The data set contains 9704 records.\n"
     ]
    }
   ],
   "source": [
    "print(f'The data set contains { num_record } records.')\n"
   ]
  },
  {
   "cell_type": "code",
   "execution_count": 27,
   "id": "407b3e00-91e6-4607-993d-de56b80fb6d4",
   "metadata": {},
   "outputs": [],
   "source": [
    "fuel_types=df['fuel_type'].unique()"
   ]
  },
  {
   "cell_type": "code",
   "execution_count": 28,
   "id": "92e0625e-5949-416e-bd04-db6acb932a57",
   "metadata": {},
   "outputs": [
    {
     "name": "stdout",
     "output_type": "stream",
     "text": [
      "['Gasoline' 'Diesel'] fuel types are presented in the data set\n"
     ]
    }
   ],
   "source": [
    "print(f'{fuel_types } fuel types are presented in the data set, ')"
   ]
  },
  {
   "cell_type": "code",
   "execution_count": 32,
   "id": "f5ce8ae9-15b5-4c21-a48a-f3042b52ff14",
   "metadata": {},
   "outputs": [],
   "source": [
    "num_fuel_types = len(fuel_types)\n"
   ]
  },
  {
   "cell_type": "code",
   "execution_count": 35,
   "id": "a0998a8b-df13-4c28-86b0-740f2fbf892c",
   "metadata": {},
   "outputs": [
    {
     "name": "stdout",
     "output_type": "stream",
     "text": [
      "2\n"
     ]
    }
   ],
   "source": [
    "print(num_fuel_types)"
   ]
  },
  {
   "cell_type": "code",
   "execution_count": 36,
   "id": "8e9b494a-ec58-4a94-9de1-1d8c1448be7d",
   "metadata": {},
   "outputs": [],
   "source": [
    "missing_values=df.isnull().sum()"
   ]
  },
  {
   "cell_type": "code",
   "execution_count": 37,
   "id": "e7a42e15-a7c7-4b9b-96c0-b6650230df58",
   "metadata": {},
   "outputs": [],
   "source": [
    "columns_with_missing_value=(missing_values>0).sum()"
   ]
  },
  {
   "cell_type": "code",
   "execution_count": 38,
   "id": "8ebdc5b3-05c7-4265-be38-a9ebf5b7a646",
   "metadata": {},
   "outputs": [
    {
     "name": "stdout",
     "output_type": "stream",
     "text": [
      "4\n"
     ]
    }
   ],
   "source": [
    "print(columns_with_missing_value)"
   ]
  },
  {
   "cell_type": "code",
   "execution_count": 43,
   "id": "9be3d63a-cfb1-48c4-8b72-2af02b241034",
   "metadata": {},
   "outputs": [],
   "source": [
    "fuel_efficiency_column = 'fuel_efficiency_mpg'\n",
    "origin_column = 'origin'"
   ]
  },
  {
   "cell_type": "code",
   "execution_count": 45,
   "id": "ff3bb6b7-9888-415d-bfe7-df1862e4373e",
   "metadata": {},
   "outputs": [],
   "source": [
    "asian_cars = df[df[origin_column] == 'Asia']"
   ]
  },
  {
   "cell_type": "code",
   "execution_count": 46,
   "id": "c214aad6-d57a-4a80-ba2d-aa20457d1b25",
   "metadata": {},
   "outputs": [],
   "source": [
    "if asian_cars.empty:\n",
    "    print(\"No cars from Asia found in the dataset.\")\n",
    "else:\n",
    "    # Find the maximum fuel efficiency among Asian cars\n",
    "    max_fuel_efficiency_asian = asian_cars[fuel_efficiency_column].max()\n"
   ]
  },
  {
   "cell_type": "code",
   "execution_count": 47,
   "id": "e1d06658-ef8e-44bf-b4f7-b4576ec6e476",
   "metadata": {},
   "outputs": [
    {
     "name": "stdout",
     "output_type": "stream",
     "text": [
      "The maximum fuel efficiency of cars from Asia is: 23.759122836520497\n"
     ]
    }
   ],
   "source": [
    "print(f\"The maximum fuel efficiency of cars from Asia is: {max_fuel_efficiency_asian}\")"
   ]
  },
  {
   "cell_type": "code",
   "execution_count": 48,
   "id": "3b4fb879-a909-4043-ab43-5d78f9cfeaa4",
   "metadata": {},
   "outputs": [],
   "source": [
    "median_horsepower=df['horsepower'].median()"
   ]
  },
  {
   "cell_type": "code",
   "execution_count": 49,
   "id": "865a823e-9aa1-4733-9209-0c567f4dabda",
   "metadata": {},
   "outputs": [
    {
     "name": "stdout",
     "output_type": "stream",
     "text": [
      "The median of the horsepower column is 149.0,\n"
     ]
    }
   ],
   "source": [
    "print(f'The median of the horsepower column is { median_horsepower },')"
   ]
  },
  {
   "cell_type": "code",
   "execution_count": 51,
   "id": "c8b94635-8ba5-472e-b8b3-1a9d08a9a051",
   "metadata": {},
   "outputs": [],
   "source": [
    "mode_horsepower=df['horsepower'].mode()\n"
   ]
  },
  {
   "cell_type": "code",
   "execution_count": 52,
   "id": "e3479463-10a2-4d7b-b5b7-27ca0b655cf1",
   "metadata": {},
   "outputs": [
    {
     "name": "stdout",
     "output_type": "stream",
     "text": [
      "The mode of the horsepower column is 0    152.0\n",
      "Name: horsepower, dtype: float64,\n"
     ]
    }
   ],
   "source": [
    "print(f'The mode of the horsepower column is { mode_horsepower },')"
   ]
  },
  {
   "cell_type": "code",
   "execution_count": null,
   "id": "c8caff6c-96ae-49c2-bfe7-5bee01e154b2",
   "metadata": {},
   "outputs": [],
   "source": []
  }
 ],
 "metadata": {
  "kernelspec": {
   "display_name": "Python 3 (ipykernel)",
   "language": "python",
   "name": "python3"
  },
  "language_info": {
   "codemirror_mode": {
    "name": "ipython",
    "version": 3
   },
   "file_extension": ".py",
   "mimetype": "text/x-python",
   "name": "python",
   "nbconvert_exporter": "python",
   "pygments_lexer": "ipython3",
   "version": "3.12.1"
  }
 },
 "nbformat": 4,
 "nbformat_minor": 5
}
