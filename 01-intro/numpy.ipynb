{
 "cells": [
  {
   "cell_type": "code",
   "execution_count": 1,
   "id": "9b2ff1a0-1be5-4819-8190-369bbb73cd9e",
   "metadata": {},
   "outputs": [],
   "source": [
    "import numpy as np\n"
   ]
  },
  {
   "cell_type": "code",
   "execution_count": 2,
   "id": "8a0c34c9-6481-4e9a-925d-95677c729cb3",
   "metadata": {},
   "outputs": [
    {
     "data": {
      "text/plain": [
       "<module 'numpy' from '/home/codespace/.local/lib/python3.12/site-packages/numpy/__init__.py'>"
      ]
     },
     "execution_count": 2,
     "metadata": {},
     "output_type": "execute_result"
    }
   ],
   "source": [
    "np"
   ]
  },
  {
   "cell_type": "code",
   "execution_count": 6,
   "id": "7077ddcb-6566-4c3b-8ad4-27fb89497ffb",
   "metadata": {},
   "outputs": [
    {
     "data": {
      "text/plain": [
       "array([0., 0., 0., 0., 0., 0., 0., 0., 0., 0.])"
      ]
     },
     "execution_count": 6,
     "metadata": {},
     "output_type": "execute_result"
    }
   ],
   "source": [
    "np.zeros(10)"
   ]
  },
  {
   "cell_type": "code",
   "execution_count": 7,
   "id": "403553d4-d6f5-4e1f-b6cb-f1cfbaeb0122",
   "metadata": {},
   "outputs": [
    {
     "data": {
      "text/plain": [
       "array([1., 1., 1., 1., 1., 1., 1., 1., 1., 1.])"
      ]
     },
     "execution_count": 7,
     "metadata": {},
     "output_type": "execute_result"
    }
   ],
   "source": [
    "np.ones(10)"
   ]
  },
  {
   "cell_type": "code",
   "execution_count": 9,
   "id": "be76db36-7f46-4d54-b0e4-ab0045f6b1d4",
   "metadata": {},
   "outputs": [
    {
     "data": {
      "text/plain": [
       "array([2.5, 2.5, 2.5, 2.5, 2.5, 2.5, 2.5, 2.5, 2.5, 2.5])"
      ]
     },
     "execution_count": 9,
     "metadata": {},
     "output_type": "execute_result"
    }
   ],
   "source": [
    "np.full(10, 2.5)\n"
   ]
  },
  {
   "cell_type": "code",
   "execution_count": 10,
   "id": "5882a7a4-69f2-4584-8c17-aea789b8774a",
   "metadata": {},
   "outputs": [],
   "source": [
    "a=np.array([1, 2, 3, 5, 7, 12])"
   ]
  },
  {
   "cell_type": "code",
   "execution_count": 11,
   "id": "c42dc764-f02b-4115-926a-ef10ded8dcc6",
   "metadata": {},
   "outputs": [
    {
     "data": {
      "text/plain": [
       "array([ 1,  2,  3,  5,  7, 12])"
      ]
     },
     "execution_count": 11,
     "metadata": {},
     "output_type": "execute_result"
    }
   ],
   "source": [
    "a"
   ]
  },
  {
   "cell_type": "code",
   "execution_count": 13,
   "id": "6f2a097a-994b-403b-8f13-072a5d031f50",
   "metadata": {},
   "outputs": [],
   "source": [
    "a[2] =10"
   ]
  },
  {
   "cell_type": "markdown",
   "id": "6dded7eb-9733-4009-8b35-193584f3817c",
   "metadata": {},
   "source": [
    "a[2]"
   ]
  },
  {
   "cell_type": "code",
   "execution_count": 14,
   "id": "03f9631f-b21e-455c-89ce-d5427654d8c9",
   "metadata": {},
   "outputs": [
    {
     "data": {
      "text/plain": [
       "array([ 1,  2, 10,  5,  7, 12])"
      ]
     },
     "execution_count": 14,
     "metadata": {},
     "output_type": "execute_result"
    }
   ],
   "source": [
    "a"
   ]
  },
  {
   "cell_type": "code",
   "execution_count": 16,
   "id": "c9054882-ecf8-4e16-b151-87bc0fb08dff",
   "metadata": {},
   "outputs": [
    {
     "data": {
      "text/plain": [
       "array([0, 1, 2, 3, 4, 5, 6, 7, 8, 9])"
      ]
     },
     "execution_count": 16,
     "metadata": {},
     "output_type": "execute_result"
    }
   ],
   "source": [
    "np.arange(10)"
   ]
  },
  {
   "cell_type": "code",
   "execution_count": 20,
   "id": "50c16f69-8cb6-41c3-a6ef-2bb0a7e9359c",
   "metadata": {},
   "outputs": [
    {
     "data": {
      "text/plain": [
       "array([0. , 0.1, 0.2, 0.3, 0.4, 0.5, 0.6, 0.7, 0.8, 0.9, 1. ])"
      ]
     },
     "execution_count": 20,
     "metadata": {},
     "output_type": "execute_result"
    }
   ],
   "source": [
    "np.linspace(0, 1, 11)"
   ]
  },
  {
   "cell_type": "code",
   "execution_count": 23,
   "id": "74dd3a02-3b3d-491a-9989-ae18209d3952",
   "metadata": {},
   "outputs": [
    {
     "data": {
      "text/plain": [
       "array([[0., 0.],\n",
       "       [0., 0.],\n",
       "       [0., 0.],\n",
       "       [0., 0.],\n",
       "       [0., 0.]])"
      ]
     },
     "execution_count": 23,
     "metadata": {},
     "output_type": "execute_result"
    }
   ],
   "source": [
    "np.zeros((5, 2))"
   ]
  },
  {
   "cell_type": "code",
   "execution_count": 27,
   "id": "f8c1b0a8-f038-4c41-8b26-01f7e5622d2e",
   "metadata": {},
   "outputs": [],
   "source": [
    "n=np.array([\n",
    "    [1, 2, 3],\n",
    "    [4, 5, 6],\n",
    "    [7, 8, 9]\n",
    "\n",
    "])"
   ]
  },
  {
   "cell_type": "code",
   "execution_count": 29,
   "id": "410586aa-2032-46fe-82cf-a16b4525f565",
   "metadata": {},
   "outputs": [],
   "source": [
    "n[1, 2] = 34"
   ]
  },
  {
   "cell_type": "code",
   "execution_count": 30,
   "id": "8d2e56ee-f994-4b1f-a73d-c6da5f9e7c36",
   "metadata": {},
   "outputs": [
    {
     "data": {
      "text/plain": [
       "array([[ 1,  2,  3],\n",
       "       [ 4,  5, 34],\n",
       "       [ 7,  8,  9]])"
      ]
     },
     "execution_count": 30,
     "metadata": {},
     "output_type": "execute_result"
    }
   ],
   "source": [
    "n"
   ]
  },
  {
   "cell_type": "code",
   "execution_count": 33,
   "id": "1963829f-bfaa-4495-832d-a256824ce494",
   "metadata": {},
   "outputs": [
    {
     "data": {
      "text/plain": [
       "array([ 3, 34,  9])"
      ]
     },
     "execution_count": 33,
     "metadata": {},
     "output_type": "execute_result"
    }
   ],
   "source": [
    "n[:,2]"
   ]
  },
  {
   "cell_type": "code",
   "execution_count": 34,
   "id": "eaa8c085-6816-4fce-b1a4-ac9fbf315b6c",
   "metadata": {},
   "outputs": [],
   "source": [
    "n[:, 1]= [12, 34, 65]"
   ]
  },
  {
   "cell_type": "code",
   "execution_count": 35,
   "id": "35b4c7a4-96b0-47bd-8544-62ea561c0fa0",
   "metadata": {},
   "outputs": [
    {
     "data": {
      "text/plain": [
       "array([[ 1, 12,  3],\n",
       "       [ 4, 34, 34],\n",
       "       [ 7, 65,  9]])"
      ]
     },
     "execution_count": 35,
     "metadata": {},
     "output_type": "execute_result"
    }
   ],
   "source": [
    "n[:]"
   ]
  },
  {
   "cell_type": "code",
   "execution_count": 38,
   "id": "13f5731c-bb92-4884-9829-6ebc0bad00e5",
   "metadata": {},
   "outputs": [
    {
     "data": {
      "text/plain": [
       "array([[43.59949021,  2.59262318],\n",
       "       [54.96624779, 43.53223926],\n",
       "       [42.03678021, 33.0334821 ],\n",
       "       [20.4648634 , 61.92709664],\n",
       "       [29.96546737, 26.68272751]])"
      ]
     },
     "execution_count": 38,
     "metadata": {},
     "output_type": "execute_result"
    }
   ],
   "source": [
    "np.random.seed(2)\n",
    "\n",
    "100 * np.random.rand(5, 2)\n"
   ]
  },
  {
   "cell_type": "code",
   "execution_count": 41,
   "id": "2c64a412-40fc-408d-ac33-00584d3205d5",
   "metadata": {},
   "outputs": [
    {
     "data": {
      "text/plain": [
       "array([[50, 25],\n",
       "       [82, 32],\n",
       "       [53, 92],\n",
       "       [85, 17],\n",
       "       [44, 59]])"
      ]
     },
     "execution_count": 41,
     "metadata": {},
     "output_type": "execute_result"
    }
   ],
   "source": [
    "np.random.seed(2)\n",
    "\n",
    "np.random.randint(low=10, high=100, size = (5, 2))"
   ]
  },
  {
   "cell_type": "code",
   "execution_count": 42,
   "id": "c6cf2ce4-2a7f-4afb-b8d8-0aad22143beb",
   "metadata": {},
   "outputs": [],
   "source": [
    "a = np.arange(5)"
   ]
  },
  {
   "cell_type": "code",
   "execution_count": 43,
   "id": "572a1165-ed9a-48d1-93b2-e9015cf6b4ef",
   "metadata": {},
   "outputs": [
    {
     "data": {
      "text/plain": [
       "array([0, 1, 2, 3, 4])"
      ]
     },
     "execution_count": 43,
     "metadata": {},
     "output_type": "execute_result"
    }
   ],
   "source": [
    "a"
   ]
  },
  {
   "cell_type": "code",
   "execution_count": 44,
   "id": "d0dc7f0f-ada3-4d9e-a277-be5c74ecc682",
   "metadata": {},
   "outputs": [
    {
     "data": {
      "text/plain": [
       "array([1, 2, 3, 4, 5])"
      ]
     },
     "execution_count": 44,
     "metadata": {},
     "output_type": "execute_result"
    }
   ],
   "source": [
    "a+1"
   ]
  },
  {
   "cell_type": "code",
   "execution_count": 45,
   "id": "ced9545d-b4f2-477a-b060-c750d39e75bc",
   "metadata": {},
   "outputs": [
    {
     "data": {
      "text/plain": [
       "array([0, 2, 4, 6, 8])"
      ]
     },
     "execution_count": 45,
     "metadata": {},
     "output_type": "execute_result"
    }
   ],
   "source": [
    "a*2"
   ]
  },
  {
   "cell_type": "code",
   "execution_count": 48,
   "id": "512c12f9-3e36-4fcf-b9a9-51d5df6b8396",
   "metadata": {},
   "outputs": [],
   "source": [
    "b=(10 + (a *2))**2 /100"
   ]
  },
  {
   "cell_type": "code",
   "execution_count": 49,
   "id": "355bb25d-27ac-44c3-8be5-1213a8ed86a0",
   "metadata": {},
   "outputs": [
    {
     "data": {
      "text/plain": [
       "array([1.  , 1.44, 1.96, 2.56, 3.24])"
      ]
     },
     "execution_count": 49,
     "metadata": {},
     "output_type": "execute_result"
    }
   ],
   "source": [
    "b"
   ]
  },
  {
   "cell_type": "code",
   "execution_count": 50,
   "id": "c39f2450-0c16-4739-8895-9880b58978e9",
   "metadata": {},
   "outputs": [
    {
     "data": {
      "text/plain": [
       "array([1.  , 2.44, 3.96, 5.56, 7.24])"
      ]
     },
     "execution_count": 50,
     "metadata": {},
     "output_type": "execute_result"
    }
   ],
   "source": [
    "a + b\n"
   ]
  },
  {
   "cell_type": "markdown",
   "id": "c0de13e4-0c1c-45f5-a657-f8e1e0baece3",
   "metadata": {},
   "source": [
    "a >= 2"
   ]
  },
  {
   "cell_type": "code",
   "execution_count": 51,
   "id": "7b8703e2-c2c9-4297-be77-700e990c7229",
   "metadata": {},
   "outputs": [
    {
     "data": {
      "text/plain": [
       "array([False, False,  True,  True,  True])"
      ]
     },
     "execution_count": 51,
     "metadata": {},
     "output_type": "execute_result"
    }
   ],
   "source": [
    "a >= 2"
   ]
  },
  {
   "cell_type": "code",
   "execution_count": 52,
   "id": "9c2005ca-0042-4320-96ee-4784fd727c93",
   "metadata": {},
   "outputs": [
    {
     "data": {
      "text/plain": [
       "array([ True,  True, False, False, False])"
      ]
     },
     "execution_count": 52,
     "metadata": {},
     "output_type": "execute_result"
    }
   ],
   "source": [
    "a< b"
   ]
  },
  {
   "cell_type": "code",
   "execution_count": 53,
   "id": "ca776532-f22d-445d-9b4a-2d37d57edad8",
   "metadata": {},
   "outputs": [
    {
     "data": {
      "text/plain": [
       "array([0, 1, 2, 3, 4])"
      ]
     },
     "execution_count": 53,
     "metadata": {},
     "output_type": "execute_result"
    }
   ],
   "source": [
    "a"
   ]
  },
  {
   "cell_type": "code",
   "execution_count": 54,
   "id": "f917cb5b-b4e5-46ad-84ec-f6c7493bd7f0",
   "metadata": {},
   "outputs": [
    {
     "data": {
      "text/plain": [
       "np.float64(1.4142135623730951)"
      ]
     },
     "execution_count": 54,
     "metadata": {},
     "output_type": "execute_result"
    }
   ],
   "source": [
    "a.std()"
   ]
  },
  {
   "cell_type": "code",
   "execution_count": 55,
   "id": "6bd31b15-0aad-43b9-bdc5-454e3ebdc0e6",
   "metadata": {},
   "outputs": [
    {
     "data": {
      "text/plain": [
       "np.int64(169)"
      ]
     },
     "execution_count": 55,
     "metadata": {},
     "output_type": "execute_result"
    }
   ],
   "source": [
    "n.sum()\n"
   ]
  },
  {
   "cell_type": "code",
   "execution_count": 56,
   "id": "d7ad8482-2d8f-44e1-8ab1-a19fe0cc32b5",
   "metadata": {},
   "outputs": [
    {
     "data": {
      "text/plain": [
       "np.int64(1)"
      ]
     },
     "execution_count": 56,
     "metadata": {},
     "output_type": "execute_result"
    }
   ],
   "source": [
    "n.min()\n"
   ]
  },
  {
   "cell_type": "code",
   "execution_count": 57,
   "id": "c0d1fe95-ffa5-44af-a617-fabc4f9a7882",
   "metadata": {},
   "outputs": [
    {
     "data": {
      "text/plain": [
       "np.float64(18.77777777777778)"
      ]
     },
     "execution_count": 57,
     "metadata": {},
     "output_type": "execute_result"
    }
   ],
   "source": [
    "n.mean()\n"
   ]
  },
  {
   "cell_type": "code",
   "execution_count": null,
   "id": "06e129eb-6292-4f73-81bd-0d534d3f52f8",
   "metadata": {},
   "outputs": [],
   "source": []
  }
 ],
 "metadata": {
  "kernelspec": {
   "display_name": "Python 3 (ipykernel)",
   "language": "python",
   "name": "python3"
  },
  "language_info": {
   "codemirror_mode": {
    "name": "ipython",
    "version": 3
   },
   "file_extension": ".py",
   "mimetype": "text/x-python",
   "name": "python",
   "nbconvert_exporter": "python",
   "pygments_lexer": "ipython3",
   "version": "3.12.1"
  }
 },
 "nbformat": 4,
 "nbformat_minor": 5
}
