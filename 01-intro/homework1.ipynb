{
 "cells": [
  {
   "cell_type": "code",
   "execution_count": 3,
   "id": "10653d33-5f44-4965-9e35-8f4ede24bca9",
   "metadata": {},
   "outputs": [],
   "source": [
    "import pandas as pd"
   ]
  },
  {
   "cell_type": "code",
   "execution_count": 4,
   "id": "bfc48bd0-a203-4e65-b9b1-ba2f2760a5ca",
   "metadata": {},
   "outputs": [],
   "source": [
    "import numpy as np\n"
   ]
  },
  {
   "cell_type": "code",
   "execution_count": 5,
   "id": "f148422a-4f1f-41fc-b5c2-e867dc4e9e02",
   "metadata": {},
   "outputs": [
    {
     "data": {
      "text/plain": [
       "'2.3.1'"
      ]
     },
     "execution_count": 5,
     "metadata": {},
     "output_type": "execute_result"
    }
   ],
   "source": [
    "np.__version__"
   ]
  },
  {
   "cell_type": "code",
   "execution_count": 6,
   "id": "7aeb71e7-ffd2-46e3-9dee-cfc4680d635d",
   "metadata": {},
   "outputs": [
    {
     "data": {
      "text/plain": [
       "'2.3.1'"
      ]
     },
     "execution_count": 6,
     "metadata": {},
     "output_type": "execute_result"
    }
   ],
   "source": [
    "pd.__version__\n"
   ]
  },
  {
   "cell_type": "code",
   "execution_count": 7,
   "id": "1f6aeb8a-d2d8-4fb8-90f1-f7161a24079e",
   "metadata": {},
   "outputs": [],
   "source": [
    "df=pd.read_csv('https://raw.githubusercontent.com/alexeygrigorev/datasets/master/car_fuel_efficiency.csv')"
   ]
  },
  {
   "cell_type": "code",
   "execution_count": 8,
   "id": "0f3883d3-c507-4871-ba53-2e381a0c59ed",
   "metadata": {},
   "outputs": [
    {
     "data": {
      "text/html": [
       "<div>\n",
       "<style scoped>\n",
       "    .dataframe tbody tr th:only-of-type {\n",
       "        vertical-align: middle;\n",
       "    }\n",
       "\n",
       "    .dataframe tbody tr th {\n",
       "        vertical-align: top;\n",
       "    }\n",
       "\n",
       "    .dataframe thead th {\n",
       "        text-align: right;\n",
       "    }\n",
       "</style>\n",
       "<table border=\"1\" class=\"dataframe\">\n",
       "  <thead>\n",
       "    <tr style=\"text-align: right;\">\n",
       "      <th></th>\n",
       "      <th>engine_displacement</th>\n",
       "      <th>num_cylinders</th>\n",
       "      <th>horsepower</th>\n",
       "      <th>vehicle_weight</th>\n",
       "      <th>acceleration</th>\n",
       "      <th>model_year</th>\n",
       "      <th>origin</th>\n",
       "      <th>fuel_type</th>\n",
       "      <th>drivetrain</th>\n",
       "      <th>num_doors</th>\n",
       "      <th>fuel_efficiency_mpg</th>\n",
       "    </tr>\n",
       "  </thead>\n",
       "  <tbody>\n",
       "    <tr>\n",
       "      <th>0</th>\n",
       "      <td>170</td>\n",
       "      <td>3.0</td>\n",
       "      <td>159.0</td>\n",
       "      <td>3413.433759</td>\n",
       "      <td>17.7</td>\n",
       "      <td>2003</td>\n",
       "      <td>Europe</td>\n",
       "      <td>Gasoline</td>\n",
       "      <td>All-wheel drive</td>\n",
       "      <td>0.0</td>\n",
       "      <td>13.231729</td>\n",
       "    </tr>\n",
       "    <tr>\n",
       "      <th>1</th>\n",
       "      <td>130</td>\n",
       "      <td>5.0</td>\n",
       "      <td>97.0</td>\n",
       "      <td>3149.664934</td>\n",
       "      <td>17.8</td>\n",
       "      <td>2007</td>\n",
       "      <td>USA</td>\n",
       "      <td>Gasoline</td>\n",
       "      <td>Front-wheel drive</td>\n",
       "      <td>0.0</td>\n",
       "      <td>13.688217</td>\n",
       "    </tr>\n",
       "    <tr>\n",
       "      <th>2</th>\n",
       "      <td>170</td>\n",
       "      <td>NaN</td>\n",
       "      <td>78.0</td>\n",
       "      <td>3079.038997</td>\n",
       "      <td>15.1</td>\n",
       "      <td>2018</td>\n",
       "      <td>Europe</td>\n",
       "      <td>Gasoline</td>\n",
       "      <td>Front-wheel drive</td>\n",
       "      <td>0.0</td>\n",
       "      <td>14.246341</td>\n",
       "    </tr>\n",
       "    <tr>\n",
       "      <th>3</th>\n",
       "      <td>220</td>\n",
       "      <td>4.0</td>\n",
       "      <td>NaN</td>\n",
       "      <td>2542.392402</td>\n",
       "      <td>20.2</td>\n",
       "      <td>2009</td>\n",
       "      <td>USA</td>\n",
       "      <td>Diesel</td>\n",
       "      <td>All-wheel drive</td>\n",
       "      <td>2.0</td>\n",
       "      <td>16.912736</td>\n",
       "    </tr>\n",
       "    <tr>\n",
       "      <th>4</th>\n",
       "      <td>210</td>\n",
       "      <td>1.0</td>\n",
       "      <td>140.0</td>\n",
       "      <td>3460.870990</td>\n",
       "      <td>14.4</td>\n",
       "      <td>2009</td>\n",
       "      <td>Europe</td>\n",
       "      <td>Gasoline</td>\n",
       "      <td>All-wheel drive</td>\n",
       "      <td>2.0</td>\n",
       "      <td>12.488369</td>\n",
       "    </tr>\n",
       "  </tbody>\n",
       "</table>\n",
       "</div>"
      ],
      "text/plain": [
       "   engine_displacement  num_cylinders  horsepower  vehicle_weight  \\\n",
       "0                  170            3.0       159.0     3413.433759   \n",
       "1                  130            5.0        97.0     3149.664934   \n",
       "2                  170            NaN        78.0     3079.038997   \n",
       "3                  220            4.0         NaN     2542.392402   \n",
       "4                  210            1.0       140.0     3460.870990   \n",
       "\n",
       "   acceleration  model_year  origin fuel_type         drivetrain  num_doors  \\\n",
       "0          17.7        2003  Europe  Gasoline    All-wheel drive        0.0   \n",
       "1          17.8        2007     USA  Gasoline  Front-wheel drive        0.0   \n",
       "2          15.1        2018  Europe  Gasoline  Front-wheel drive        0.0   \n",
       "3          20.2        2009     USA    Diesel    All-wheel drive        2.0   \n",
       "4          14.4        2009  Europe  Gasoline    All-wheel drive        2.0   \n",
       "\n",
       "   fuel_efficiency_mpg  \n",
       "0            13.231729  \n",
       "1            13.688217  \n",
       "2            14.246341  \n",
       "3            16.912736  \n",
       "4            12.488369  "
      ]
     },
     "execution_count": 8,
     "metadata": {},
     "output_type": "execute_result"
    }
   ],
   "source": [
    "df.head()\n"
   ]
  },
  {
   "cell_type": "code",
   "execution_count": 9,
   "id": "9cb2f9ee-5715-4fb8-b182-42574d426d0a",
   "metadata": {},
   "outputs": [],
   "source": [
    "num_record =len(df)"
   ]
  },
  {
   "cell_type": "code",
   "execution_count": 10,
   "id": "e438c461-4d83-448d-b3c3-810e2103ab89",
   "metadata": {},
   "outputs": [
    {
     "name": "stdout",
     "output_type": "stream",
     "text": [
      "The data set contains 9704 records.\n"
     ]
    }
   ],
   "source": [
    "print(f'The data set contains { num_record } records.')\n"
   ]
  },
  {
   "cell_type": "code",
   "execution_count": 11,
   "id": "407b3e00-91e6-4607-993d-de56b80fb6d4",
   "metadata": {},
   "outputs": [],
   "source": [
    "fuel_types=df['fuel_type'].unique()"
   ]
  },
  {
   "cell_type": "code",
   "execution_count": 12,
   "id": "92e0625e-5949-416e-bd04-db6acb932a57",
   "metadata": {},
   "outputs": [
    {
     "name": "stdout",
     "output_type": "stream",
     "text": [
      "['Gasoline' 'Diesel'] fuel types are presented in the data set, \n"
     ]
    }
   ],
   "source": [
    "print(f'{fuel_types } fuel types are presented in the data set, ')"
   ]
  },
  {
   "cell_type": "code",
   "execution_count": 13,
   "id": "f5ce8ae9-15b5-4c21-a48a-f3042b52ff14",
   "metadata": {},
   "outputs": [],
   "source": [
    "num_fuel_types = len(fuel_types)\n"
   ]
  },
  {
   "cell_type": "code",
   "execution_count": 14,
   "id": "a0998a8b-df13-4c28-86b0-740f2fbf892c",
   "metadata": {},
   "outputs": [
    {
     "name": "stdout",
     "output_type": "stream",
     "text": [
      "2\n"
     ]
    }
   ],
   "source": [
    "print(num_fuel_types)"
   ]
  },
  {
   "cell_type": "code",
   "execution_count": 15,
   "id": "8e9b494a-ec58-4a94-9de1-1d8c1448be7d",
   "metadata": {},
   "outputs": [],
   "source": [
    "missing_values=df.isnull().sum()"
   ]
  },
  {
   "cell_type": "code",
   "execution_count": 16,
   "id": "e7a42e15-a7c7-4b9b-96c0-b6650230df58",
   "metadata": {},
   "outputs": [],
   "source": [
    "columns_with_missing_value=(missing_values>0).sum()"
   ]
  },
  {
   "cell_type": "code",
   "execution_count": 17,
   "id": "8ebdc5b3-05c7-4265-be38-a9ebf5b7a646",
   "metadata": {},
   "outputs": [
    {
     "name": "stdout",
     "output_type": "stream",
     "text": [
      "4\n"
     ]
    }
   ],
   "source": [
    "print(columns_with_missing_value)"
   ]
  },
  {
   "cell_type": "code",
   "execution_count": 18,
   "id": "9be3d63a-cfb1-48c4-8b72-2af02b241034",
   "metadata": {},
   "outputs": [],
   "source": [
    "fuel_efficiency_column = 'fuel_efficiency_mpg'\n",
    "origin_column = 'origin'"
   ]
  },
  {
   "cell_type": "code",
   "execution_count": 19,
   "id": "ff3bb6b7-9888-415d-bfe7-df1862e4373e",
   "metadata": {},
   "outputs": [],
   "source": [
    "asian_cars = df[df[origin_column] == 'Asia']"
   ]
  },
  {
   "cell_type": "code",
   "execution_count": 20,
   "id": "c214aad6-d57a-4a80-ba2d-aa20457d1b25",
   "metadata": {},
   "outputs": [],
   "source": [
    "if asian_cars.empty:\n",
    "    print(\"No cars from Asia found in the dataset.\")\n",
    "else:\n",
    "    # Find the maximum fuel efficiency among Asian cars\n",
    "    max_fuel_efficiency_asian = asian_cars[fuel_efficiency_column].max()\n"
   ]
  },
  {
   "cell_type": "code",
   "execution_count": 21,
   "id": "e1d06658-ef8e-44bf-b4f7-b4576ec6e476",
   "metadata": {},
   "outputs": [
    {
     "name": "stdout",
     "output_type": "stream",
     "text": [
      "The maximum fuel efficiency of cars from Asia is: 23.759122836520497\n"
     ]
    }
   ],
   "source": [
    "print(f\"The maximum fuel efficiency of cars from Asia is: {max_fuel_efficiency_asian}\")"
   ]
  },
  {
   "cell_type": "code",
   "execution_count": 22,
   "id": "3b4fb879-a909-4043-ab43-5d78f9cfeaa4",
   "metadata": {},
   "outputs": [],
   "source": [
    "median_horsepower=df['horsepower'].median()"
   ]
  },
  {
   "cell_type": "code",
   "execution_count": 23,
   "id": "865a823e-9aa1-4733-9209-0c567f4dabda",
   "metadata": {},
   "outputs": [
    {
     "name": "stdout",
     "output_type": "stream",
     "text": [
      "The median of the horsepower column is 149.0,\n"
     ]
    }
   ],
   "source": [
    "print(f'The median of the horsepower column is { median_horsepower },')"
   ]
  },
  {
   "cell_type": "code",
   "execution_count": 24,
   "id": "c8b94635-8ba5-472e-b8b3-1a9d08a9a051",
   "metadata": {},
   "outputs": [],
   "source": [
    "mode_horsepower=df['horsepower'].mode()\n"
   ]
  },
  {
   "cell_type": "code",
   "execution_count": 25,
   "id": "e3479463-10a2-4d7b-b5b7-27ca0b655cf1",
   "metadata": {},
   "outputs": [
    {
     "name": "stdout",
     "output_type": "stream",
     "text": [
      "The mode of the horsepower column is 0    152.0\n",
      "Name: horsepower, dtype: float64,\n"
     ]
    }
   ],
   "source": [
    "print(f'The mode of the horsepower column is { mode_horsepower },')"
   ]
  },
  {
   "cell_type": "code",
   "execution_count": 26,
   "id": "ad99c6b4-5fa5-4a73-b97d-7c7e40036293",
   "metadata": {},
   "outputs": [],
   "source": [
    "horsepower_column = 'horsepower'"
   ]
  },
  {
   "cell_type": "code",
   "execution_count": 27,
   "id": "34b91703-7a75-44de-b151-6eda18aecd22",
   "metadata": {},
   "outputs": [],
   "source": [
    "most_frequent_horsepower = df[horsepower_column].mode()[0] "
   ]
  },
  {
   "cell_type": "code",
   "execution_count": 28,
   "id": "c8caff6c-96ae-49c2-bfe7-5bee01e154b2",
   "metadata": {},
   "outputs": [],
   "source": [
    "df.loc[:, horsepower_column] = df[horsepower_column].fillna(most_frequent_horsepower)"
   ]
  },
  {
   "cell_type": "code",
   "execution_count": 29,
   "id": "ffa1c88f-e1c9-4014-82f0-5dbe2270613a",
   "metadata": {},
   "outputs": [
    {
     "name": "stdout",
     "output_type": "stream",
     "text": [
      "0\n"
     ]
    }
   ],
   "source": [
    "print(df[horsepower_column].isnull().sum())"
   ]
  },
  {
   "cell_type": "code",
   "execution_count": 30,
   "id": "c0642970-aae8-49eb-9993-c5f420f9a63c",
   "metadata": {},
   "outputs": [],
   "source": [
    "median_horsepower=df['horsepower'].median()\n"
   ]
  },
  {
   "cell_type": "code",
   "execution_count": 31,
   "id": "e7a69391-0647-45b8-b266-7de37412388d",
   "metadata": {},
   "outputs": [
    {
     "name": "stdout",
     "output_type": "stream",
     "text": [
      "The median horsepower has increased to 152.0,\n"
     ]
    }
   ],
   "source": [
    "print(f'The median horsepower has increased to { median_horsepower },')"
   ]
  },
  {
   "cell_type": "code",
   "execution_count": 32,
   "id": "2b571226-bafe-473a-abd0-2d39f220188b",
   "metadata": {},
   "outputs": [],
   "source": [
    "#  Yes, it increased"
   ]
  },
  {
   "cell_type": "code",
   "execution_count": 33,
   "id": "a01e24fa-f038-4b7d-9f31-8a1f8b2cef28",
   "metadata": {},
   "outputs": [
    {
     "name": "stdout",
     "output_type": "stream",
     "text": [
      "    engine_displacement  num_cylinders  horsepower  vehicle_weight  \\\n",
      "8                   250            1.0       174.0     2714.219310   \n",
      "12                  320            5.0       145.0     2783.868974   \n",
      "14                  200            6.0       160.0     3582.687368   \n",
      "20                  150            3.0       197.0     2231.808142   \n",
      "21                  160            4.0       133.0     2659.431451   \n",
      "\n",
      "    acceleration  model_year origin fuel_type         drivetrain  num_doors  \\\n",
      "8           10.3        2016   Asia    Diesel  Front-wheel drive       -1.0   \n",
      "12          15.1        2010   Asia    Diesel    All-wheel drive        1.0   \n",
      "14          14.9        2007   Asia    Diesel    All-wheel drive        0.0   \n",
      "20          18.7        2011   Asia  Gasoline  Front-wheel drive        1.0   \n",
      "21           NaN        2016   Asia  Gasoline  Front-wheel drive       -1.0   \n",
      "\n",
      "    fuel_efficiency_mpg  \n",
      "8             16.823554  \n",
      "12            16.175820  \n",
      "14            11.871091  \n",
      "20            18.889083  \n",
      "21            16.077730  \n"
     ]
    }
   ],
   "source": [
    "print(asian_cars.head())"
   ]
  },
  {
   "cell_type": "code",
   "execution_count": 34,
   "id": "c14f343c-4f92-4c55-9889-84b621a0b113",
   "metadata": {},
   "outputs": [],
   "source": [
    "vehicle_weight_column = 'vehicle_weight'\n",
    "model_year_column = 'model_year'"
   ]
  },
  {
   "cell_type": "code",
   "execution_count": 35,
   "id": "572891ab-2f11-4a9e-be07-a34a8e45df14",
   "metadata": {},
   "outputs": [],
   "source": [
    "selected_columns = df[[vehicle_weight_column, model_year_column]]"
   ]
  },
  {
   "cell_type": "code",
   "execution_count": 36,
   "id": "49e30e56-83e0-481e-b30d-6fc0bc41ad93",
   "metadata": {},
   "outputs": [
    {
     "name": "stdout",
     "output_type": "stream",
     "text": [
      "      vehicle_weight  model_year\n",
      "0        3413.433759        2003\n",
      "1        3149.664934        2007\n",
      "2        3079.038997        2018\n",
      "3        2542.392402        2009\n",
      "4        3460.870990        2009\n",
      "...              ...         ...\n",
      "9699     2981.107371        2013\n",
      "9700     2439.525729        2004\n",
      "9701     2583.471318        2008\n",
      "9702     2905.527390        2011\n",
      "9703     2908.043477        2005\n",
      "\n",
      "[9704 rows x 2 columns]\n"
     ]
    }
   ],
   "source": [
    "print(selected_columns)\n"
   ]
  },
  {
   "cell_type": "code",
   "execution_count": 37,
   "id": "491ba871-1489-4681-b474-fe4487e1b4f5",
   "metadata": {},
   "outputs": [],
   "source": [
    "first_7_rows = df.head(7)"
   ]
  },
  {
   "cell_type": "code",
   "execution_count": null,
   "id": "adb3cca4-1e54-4bd9-8722-81d2a6b9c4ea",
   "metadata": {},
   "outputs": [],
   "source": []
  },
  {
   "cell_type": "code",
   "execution_count": 38,
   "id": "6f0ebf29-8558-457c-978f-833a3058d118",
   "metadata": {},
   "outputs": [
    {
     "name": "stdout",
     "output_type": "stream",
     "text": [
      "   engine_displacement  num_cylinders  horsepower  vehicle_weight  \\\n",
      "0                  170            3.0       159.0     3413.433759   \n",
      "1                  130            5.0        97.0     3149.664934   \n",
      "2                  170            NaN        78.0     3079.038997   \n",
      "3                  220            4.0       152.0     2542.392402   \n",
      "4                  210            1.0       140.0     3460.870990   \n",
      "5                  190            3.0       152.0     2484.883986   \n",
      "6                  240            7.0       127.0     3006.542287   \n",
      "\n",
      "   acceleration  model_year  origin fuel_type         drivetrain  num_doors  \\\n",
      "0          17.7        2003  Europe  Gasoline    All-wheel drive        0.0   \n",
      "1          17.8        2007     USA  Gasoline  Front-wheel drive        0.0   \n",
      "2          15.1        2018  Europe  Gasoline  Front-wheel drive        0.0   \n",
      "3          20.2        2009     USA    Diesel    All-wheel drive        2.0   \n",
      "4          14.4        2009  Europe  Gasoline    All-wheel drive        2.0   \n",
      "5          14.7        2008  Europe  Gasoline    All-wheel drive       -1.0   \n",
      "6          22.2        2012     USA  Gasoline  Front-wheel drive        1.0   \n",
      "\n",
      "   fuel_efficiency_mpg  \n",
      "0            13.231729  \n",
      "1            13.688217  \n",
      "2            14.246341  \n",
      "3            16.912736  \n",
      "4            12.488369  \n",
      "5            17.271818  \n",
      "6            13.210412  \n"
     ]
    }
   ],
   "source": [
    "print(first_7_rows)"
   ]
  },
  {
   "cell_type": "code",
   "execution_count": 49,
   "id": "be77e5e6-93c1-48fe-99ce-4fc5eaac3cb8",
   "metadata": {},
   "outputs": [],
   "source": [
    "potential_numeric_cols = df.columns  # Assuming all cols *should* be numeric. Adjust as needed\n",
    "\n",
    "# Convert potential numeric columns to numeric, coercing errors to NaN\n",
    "for col in potential_numeric_cols:\n",
    "    df[col] = pd.to_numeric(df[col], errors='coerce')\n",
    "\n",
    "# Impute missing values (NaN) with the mean of each column\n",
    "df = df.fillna(df.mean())  # Use df.median() or df.mode()[0] if appropriate\n",
    "\n",
    "\n",
    "# Now get the underlying NumPy array\n",
    "X = df.values"
   ]
  },
  {
   "cell_type": "code",
   "execution_count": 39,
   "id": "f87d7043-3fe8-45d7-8c68-bb67c0cea986",
   "metadata": {},
   "outputs": [],
   "source": [
    "X = df.values"
   ]
  },
  {
   "cell_type": "code",
   "execution_count": 50,
   "id": "59dd859e-e933-427f-8ce7-74945c7a064e",
   "metadata": {},
   "outputs": [
    {
     "name": "stdout",
     "output_type": "stream",
     "text": [
      "[[170.           3.         159.         ...          nan   0.\n",
      "   13.23172891]\n",
      " [130.           5.          97.         ...          nan   0.\n",
      "   13.68821744]\n",
      " [170.           3.96248102  78.         ...          nan   0.\n",
      "   14.246341  ]\n",
      " ...\n",
      " [220.           2.         138.         ...          nan  -1.\n",
      "   17.18658678]\n",
      " [230.           4.         177.         ...          nan   1.\n",
      "   15.33155059]\n",
      " [270.           3.         140.         ...          nan  -1.\n",
      "   14.8844674 ]]\n"
     ]
    }
   ],
   "source": [
    "print(X)"
   ]
  },
  {
   "cell_type": "code",
   "execution_count": null,
   "id": "0a412543-f099-428c-bb6f-6ced1d43fd44",
   "metadata": {},
   "outputs": [],
   "source": [
    "print(f\"Shape of X: {X.shape}\")"
   ]
  },
  {
   "cell_type": "code",
   "execution_count": 55,
   "id": "f5b8767b-b00e-4347-8b6c-314e74c6f246",
   "metadata": {},
   "outputs": [
    {
     "name": "stdout",
     "output_type": "stream",
     "text": [
      "Warning: NaN values still present in X after imputation. Check your data.\n"
     ]
    }
   ],
   "source": [
    "if np.isnan(X).any():\n",
    "    print(\"Warning: NaN values still present in X after imputation. Check your data.\")"
   ]
  },
  {
   "cell_type": "code",
   "execution_count": 56,
   "id": "196c5df9-5592-4c3b-946a-4a0f0a52dcb2",
   "metadata": {},
   "outputs": [],
   "source": [
    "XT = X.T\n"
   ]
  },
  {
   "cell_type": "code",
   "execution_count": 57,
   "id": "9aa1b418-641a-4c76-8382-9ac6351b640d",
   "metadata": {},
   "outputs": [
    {
     "name": "stdout",
     "output_type": "stream",
     "text": [
      "Shape of XT: (11, 9704)\n"
     ]
    }
   ],
   "source": [
    "print(f\"Shape of XT: {XT.shape}\")"
   ]
  },
  {
   "cell_type": "code",
   "execution_count": 58,
   "id": "de267610-bdc2-4d2a-8e75-d800fd5f59db",
   "metadata": {},
   "outputs": [],
   "source": [
    "XTX = np.matmul(XT, X)"
   ]
  },
  {
   "cell_type": "code",
   "execution_count": 54,
   "id": "870261bc-0d3d-4636-84d3-1a4691f60378",
   "metadata": {},
   "outputs": [
    {
     "name": "stdout",
     "output_type": "stream",
     "text": [
      "[[ 4.10760700e+08  7.65884952e+06  2.90168730e+08  5.81647387e+09\n",
      "   2.90983338e+07  3.89820956e+09             nan             nan\n",
      "              nan -1.66680233e+04  2.90423444e+07]\n",
      " [ 7.65884952e+06  1.89224005e+05  5.76751116e+06  1.15477123e+08\n",
      "   5.77281494e+05  7.73471604e+07             nan             nan\n",
      "              nan -1.05454141e+02  5.75878462e+05]\n",
      " [ 2.90168730e+08  5.76751116e+06  2.25874415e+08  4.36320703e+09\n",
      "   2.18389635e+07  2.92459614e+09             nan             nan\n",
      "              nan -1.16148425e+04  2.18715153e+07]\n",
      " [ 5.81647387e+09  1.15477123e+08  4.36320703e+09  8.98159673e+10\n",
      "   4.37745091e+08  5.85831378e+10             nan             nan\n",
      "              nan -2.24356316e+05  4.24372782e+08]\n",
      " [ 2.90983338e+07  5.77281494e+05  2.18389635e+07  4.37745091e+08\n",
      "   2.24507419e+06  2.93220643e+08             nan             nan\n",
      "              nan -8.94904793e+02  2.17767219e+06]\n",
      " [ 3.89820956e+09  7.73471604e+07  2.92459614e+09  5.85831378e+10\n",
      "   2.93220643e+08  3.92634741e+10             nan             nan\n",
      "              nan -1.25246420e+05  2.92505007e+08]\n",
      " [            nan             nan             nan             nan\n",
      "              nan             nan             nan             nan\n",
      "              nan             nan             nan]\n",
      " [            nan             nan             nan             nan\n",
      "              nan             nan             nan             nan\n",
      "              nan             nan             nan]\n",
      " [            nan             nan             nan             nan\n",
      "              nan             nan             nan             nan\n",
      "              nan             nan             nan]\n",
      " [-1.66680233e+04 -1.05454141e+02 -1.16148425e+04 -2.24356316e+05\n",
      "  -8.94904793e+02 -1.25246420e+05             nan             nan\n",
      "              nan  1.01090206e+04 -6.63066856e+02]\n",
      " [ 2.90423444e+07  5.75878462e+05  2.18715153e+07  4.24372782e+08\n",
      "   2.17767219e+06  2.92505007e+08             nan             nan\n",
      "              nan -6.63066856e+02  2.24252034e+06]]\n"
     ]
    }
   ],
   "source": [
    "print(XTX)\n"
   ]
  },
  {
   "cell_type": "code",
   "execution_count": 59,
   "id": "f98f9e1b-1149-4cbc-a782-81de3743ce6d",
   "metadata": {},
   "outputs": [
    {
     "name": "stdout",
     "output_type": "stream",
     "text": [
      "[1100 1300  800  900 1000 1100 1200]\n"
     ]
    }
   ],
   "source": [
    "y = np.array([1100, 1300, 800, 900, 1000, 1100, 1200])\n",
    "\n",
    "# Print the array to verify\n",
    "print(y)"
   ]
  },
  {
   "cell_type": "code",
   "execution_count": 63,
   "id": "ed602f97-8ef4-4891-93fb-5afcf758509e",
   "metadata": {},
   "outputs": [
    {
     "name": "stdout",
     "output_type": "stream",
     "text": [
      "Shape of XTX_inv_XT: (11, 9704)\n",
      "Shape of y: (7,)\n"
     ]
    },
    {
     "ename": "ValueError",
     "evalue": "matmul: Input operand 1 has a mismatch in its core dimension 0, with gufunc signature (n?,k),(k,m?)->(n?,m?) (size 7 is different from 9704)",
     "output_type": "error",
     "traceback": [
      "\u001b[31m---------------------------------------------------------------------------\u001b[39m",
      "\u001b[31mValueError\u001b[39m                                Traceback (most recent call last)",
      "\u001b[36mCell\u001b[39m\u001b[36m \u001b[39m\u001b[32mIn[63]\u001b[39m\u001b[32m, line 29\u001b[39m\n\u001b[32m     25\u001b[39m \u001b[38;5;28mprint\u001b[39m(\u001b[33mf\u001b[39m\u001b[33m\"\u001b[39m\u001b[33mShape of y: \u001b[39m\u001b[38;5;132;01m{\u001b[39;00my.shape\u001b[38;5;132;01m}\u001b[39;00m\u001b[33m\"\u001b[39m)\n\u001b[32m     28\u001b[39m \u001b[38;5;66;03m# Multiply the result by y\u001b[39;00m\n\u001b[32m---> \u001b[39m\u001b[32m29\u001b[39m w = \u001b[43mnp\u001b[49m\u001b[43m.\u001b[49m\u001b[43mmatmul\u001b[49m\u001b[43m(\u001b[49m\u001b[43mXTX_inv_XT\u001b[49m\u001b[43m,\u001b[49m\u001b[43m \u001b[49m\u001b[43my\u001b[49m\u001b[43m)\u001b[49m\n\u001b[32m     31\u001b[39m \u001b[38;5;66;03m# Print the resulting array w\u001b[39;00m\n\u001b[32m     32\u001b[39m \u001b[38;5;28mprint\u001b[39m(w)\n",
      "\u001b[31mValueError\u001b[39m: matmul: Input operand 1 has a mismatch in its core dimension 0, with gufunc signature (n?,k),(k,m?)->(n?,m?) (size 7 is different from 9704)"
     ]
    }
   ],
   "source": [
    "X = df.values\n",
    "\n",
    "# Compute the transpose of X\n",
    "XT = X.T\n",
    "\n",
    "# Compute the matrix-matrix multiplication between X.T and X\n",
    "XTX = np.matmul(XT, X)\n",
    "\n",
    "# Create the array y\n",
    "y = np.array([1100, 1300, 800, 900, 1000, 1100, 1200])\n",
    "\n",
    "# Check if XTX is invertible\n",
    "if np.linalg.det(XTX) == 0:\n",
    "    print(\"Error: XTX is not invertible (singular matrix).\")\n",
    "else:\n",
    "    # Compute the inverse of XTX\n",
    "    XTX_inv = np.linalg.inv(XTX)\n",
    "\n",
    "    # Multiply the inverse of XTX with the transpose of X\n",
    "    XTX_inv_XT = np.matmul(XTX_inv, XT)\n",
    "\n",
    "\n",
    "    # CRUCIAL: Print shapes right before the multiplication\n",
    "    print(f\"Shape of XTX_inv_XT: {XTX_inv_XT.shape}\")\n",
    "    print(f\"Shape of y: {y.shape}\")\n",
    "\n",
    "\n",
    "    # Multiply the result by y\n",
    "    w = np.matmul(XTX_inv_XT, y)\n",
    "\n",
    "    # Print the resulting array w\n",
    "    print(w)\n"
   ]
  },
  {
   "cell_type": "code",
   "execution_count": null,
   "id": "ff7b52e4-8a82-469a-b423-b66619b6cd7d",
   "metadata": {},
   "outputs": [],
   "source": []
  }
 ],
 "metadata": {
  "kernelspec": {
   "display_name": "Python 3 (ipykernel)",
   "language": "python",
   "name": "python3"
  },
  "language_info": {
   "codemirror_mode": {
    "name": "ipython",
    "version": 3
   },
   "file_extension": ".py",
   "mimetype": "text/x-python",
   "name": "python",
   "nbconvert_exporter": "python",
   "pygments_lexer": "ipython3",
   "version": "3.12.1"
  }
 },
 "nbformat": 4,
 "nbformat_minor": 5
}
